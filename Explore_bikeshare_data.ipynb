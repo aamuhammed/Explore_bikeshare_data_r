{
 "cells": [
  {
   "cell_type": "markdown",
   "id": "88c7f7a7",
   "metadata": {},
   "source": [
    "### Explore Bike Share Data\n",
    "\n",
    "For this project, your goal is to ask and answer three questions about the available bikeshare data from Washington, Chicago, and New York. This notebook can be submitted directly through the workspace when you are confident in your results.\n",
    "\n",
    "You will be graded against the project Rubric by a mentor after you have submitted. \n",
    "\n",
    "To get you started, you can use the template below, but feel free to be creative in your solutions!"
   ]
  },
  {
   "cell_type": "code",
   "execution_count": 239,
   "id": "d07b3cec",
   "metadata": {},
   "outputs": [],
   "source": [
    "ny = read.csv('new_york_city.csv')\n",
    "wash = read.csv('washington.csv')\n",
    "chi = read.csv('chicago.csv')"
   ]
  },
  {
   "cell_type": "code",
   "execution_count": 240,
   "id": "8dd3009a",
   "metadata": {},
   "outputs": [],
   "source": [
    "#Create new vectors for washington\n",
    "Gender <- c(\"\")\n",
    "Birth.Year <- c(\"\")"
   ]
  },
  {
   "cell_type": "code",
   "execution_count": 241,
   "id": "aea8f39b",
   "metadata": {},
   "outputs": [],
   "source": [
    "# Add `Gender & Birth.Year` to the `wash` data frame\n",
    "wash$Gender <- Gender\n",
    "wash$Birth.Year <- Birth.Year\n",
    "wash$City <- c('Washington')\n",
    "ny$City <- c('New York')\n",
    "chi$City <- c('Chicago')"
   ]
  },
  {
   "cell_type": "code",
   "execution_count": 242,
   "id": "38274b7f",
   "metadata": {},
   "outputs": [
    {
     "data": {
      "text/html": [
       "<table>\n",
       "<thead><tr><th scope=col>X</th><th scope=col>Start.Time</th><th scope=col>End.Time</th><th scope=col>Trip.Duration</th><th scope=col>Start.Station</th><th scope=col>End.Station</th><th scope=col>User.Type</th><th scope=col>Gender</th><th scope=col>Birth.Year</th><th scope=col>City</th></tr></thead>\n",
       "<tbody>\n",
       "\t<tr><td>1621326                                                                                        </td><td>2017-06-21 08:36:34                                                                            </td><td>2017-06-21 08:44:43                                                                            </td><td> 489.066                                                                                       </td><td><span style=white-space:pre-wrap>14th &amp; Belmont St NW                       </span>        </td><td><span style=white-space:pre-wrap>15th &amp; K St NW                                     </span></td><td>Subscriber                                                                                     </td><td>                                                                                               </td><td>                                                                                               </td><td>Washington                                                                                     </td></tr>\n",
       "\t<tr><td> 482740                                                                                        </td><td>2017-03-11 10:40:00                                                                            </td><td>2017-03-11 10:46:00                                                                            </td><td> 402.549                                                                                       </td><td><span style=white-space:pre-wrap>Yuma St &amp; Tenley Circle NW                 </span>        </td><td><span style=white-space:pre-wrap>Connecticut Ave &amp; Yuma St NW                       </span></td><td>Subscriber                                                                                     </td><td>                                                                                               </td><td>                                                                                               </td><td>Washington                                                                                     </td></tr>\n",
       "\t<tr><td>1330037                                                                                        </td><td>2017-05-30 01:02:59                                                                            </td><td>2017-05-30 01:13:37                                                                            </td><td> 637.251                                                                                       </td><td><span style=white-space:pre-wrap>17th St &amp; Massachusetts Ave NW             </span>        </td><td><span style=white-space:pre-wrap>5th &amp; K St NW                                      </span></td><td>Subscriber                                                                                     </td><td>                                                                                               </td><td>                                                                                               </td><td>Washington                                                                                     </td></tr>\n",
       "\t<tr><td> 665458                                                                                        </td><td>2017-04-02 07:48:35                                                                            </td><td>2017-04-02 08:19:03                                                                            </td><td>1827.341                                                                                       </td><td><span style=white-space:pre-wrap>Constitution Ave &amp; 2nd St NW/DOL           </span>        </td><td><span style=white-space:pre-wrap>M St &amp; Pennsylvania Ave NW                         </span></td><td><span style=white-space:pre-wrap>Customer  </span>                                             </td><td>                                                                                               </td><td>                                                                                               </td><td>Washington                                                                                     </td></tr>\n",
       "\t<tr><td>1481135                                                                                        </td><td>2017-06-10 08:36:28                                                                            </td><td>2017-06-10 09:02:17                                                                            </td><td>1549.427                                                                                       </td><td>Henry Bacon Dr &amp; Lincoln Memorial Circle NW                                                </td><td><span style=white-space:pre-wrap>Maine Ave &amp; 7th St SW                              </span></td><td>Subscriber                                                                                     </td><td>                                                                                               </td><td>                                                                                               </td><td>Washington                                                                                     </td></tr>\n",
       "\t<tr><td>1148202                                                                                </td><td>2017-05-14 07:18:18                                                                    </td><td>2017-05-14 07:24:56                                                                    </td><td> 398.000                                                                               </td><td><span style=white-space:pre-wrap>1st &amp; K St SE                              </span></td><td>Eastern Market Metro / Pennsylvania Ave &amp; 7th St SE                                </td><td>Subscriber                                                                             </td><td>                                                                                       </td><td>                                                                                       </td><td>Washington                                                                             </td></tr>\n",
       "</tbody>\n",
       "</table>\n"
      ],
      "text/latex": [
       "\\begin{tabular}{r|llllllllll}\n",
       " X & Start.Time & End.Time & Trip.Duration & Start.Station & End.Station & User.Type & Gender & Birth.Year & City\\\\\n",
       "\\hline\n",
       "\t 1621326                                               & 2017-06-21 08:36:34                                   & 2017-06-21 08:44:43                                   &  489.066                                              & 14th \\& Belmont St NW                                & 15th \\& K St NW                                      & Subscriber                                            &                                                       &                                                       & Washington                                           \\\\\n",
       "\t  482740                                               & 2017-03-11 10:40:00                                   & 2017-03-11 10:46:00                                   &  402.549                                              & Yuma St \\& Tenley Circle NW                          & Connecticut Ave \\& Yuma St NW                        & Subscriber                                            &                                                       &                                                       & Washington                                           \\\\\n",
       "\t 1330037                                               & 2017-05-30 01:02:59                                   & 2017-05-30 01:13:37                                   &  637.251                                              & 17th St \\& Massachusetts Ave NW                      & 5th \\& K St NW                                       & Subscriber                                            &                                                       &                                                       & Washington                                           \\\\\n",
       "\t  665458                                               & 2017-04-02 07:48:35                                   & 2017-04-02 08:19:03                                   & 1827.341                                              & Constitution Ave \\& 2nd St NW/DOL                    & M St \\& Pennsylvania Ave NW                          & Customer                                              &                                                       &                                                       & Washington                                           \\\\\n",
       "\t 1481135                                               & 2017-06-10 08:36:28                                   & 2017-06-10 09:02:17                                   & 1549.427                                              & Henry Bacon Dr \\& Lincoln Memorial Circle NW         & Maine Ave \\& 7th St SW                               & Subscriber                                            &                                                       &                                                       & Washington                                           \\\\\n",
       "\t 1148202                                               & 2017-05-14 07:18:18                                   & 2017-05-14 07:24:56                                   &  398.000                                              & 1st \\& K St SE                                       & Eastern Market Metro / Pennsylvania Ave \\& 7th St SE & Subscriber                                            &                                                       &                                                       & Washington                                           \\\\\n",
       "\\end{tabular}\n"
      ],
      "text/markdown": [
       "\n",
       "| X | Start.Time | End.Time | Trip.Duration | Start.Station | End.Station | User.Type | Gender | Birth.Year | City |\n",
       "|---|---|---|---|---|---|---|---|---|---|\n",
       "| 1621326                                             | 2017-06-21 08:36:34                                 | 2017-06-21 08:44:43                                 |  489.066                                            | 14th & Belmont St NW                                | 15th & K St NW                                      | Subscriber                                          |                                                     |                                                     | Washington                                          |\n",
       "|  482740                                             | 2017-03-11 10:40:00                                 | 2017-03-11 10:46:00                                 |  402.549                                            | Yuma St & Tenley Circle NW                          | Connecticut Ave & Yuma St NW                        | Subscriber                                          |                                                     |                                                     | Washington                                          |\n",
       "| 1330037                                             | 2017-05-30 01:02:59                                 | 2017-05-30 01:13:37                                 |  637.251                                            | 17th St & Massachusetts Ave NW                      | 5th & K St NW                                       | Subscriber                                          |                                                     |                                                     | Washington                                          |\n",
       "|  665458                                             | 2017-04-02 07:48:35                                 | 2017-04-02 08:19:03                                 | 1827.341                                            | Constitution Ave & 2nd St NW/DOL                    | M St & Pennsylvania Ave NW                          | Customer                                            |                                                     |                                                     | Washington                                          |\n",
       "| 1481135                                             | 2017-06-10 08:36:28                                 | 2017-06-10 09:02:17                                 | 1549.427                                            | Henry Bacon Dr & Lincoln Memorial Circle NW         | Maine Ave & 7th St SW                               | Subscriber                                          |                                                     |                                                     | Washington                                          |\n",
       "| 1148202                                             | 2017-05-14 07:18:18                                 | 2017-05-14 07:24:56                                 |  398.000                                            | 1st & K St SE                                       | Eastern Market Metro / Pennsylvania Ave & 7th St SE | Subscriber                                          |                                                     |                                                     | Washington                                          |\n",
       "\n"
      ],
      "text/plain": [
       "  X       Start.Time          End.Time            Trip.Duration\n",
       "1 1621326 2017-06-21 08:36:34 2017-06-21 08:44:43  489.066     \n",
       "2  482740 2017-03-11 10:40:00 2017-03-11 10:46:00  402.549     \n",
       "3 1330037 2017-05-30 01:02:59 2017-05-30 01:13:37  637.251     \n",
       "4  665458 2017-04-02 07:48:35 2017-04-02 08:19:03 1827.341     \n",
       "5 1481135 2017-06-10 08:36:28 2017-06-10 09:02:17 1549.427     \n",
       "6 1148202 2017-05-14 07:18:18 2017-05-14 07:24:56  398.000     \n",
       "  Start.Station                              \n",
       "1 14th & Belmont St NW                       \n",
       "2 Yuma St & Tenley Circle NW                 \n",
       "3 17th St & Massachusetts Ave NW             \n",
       "4 Constitution Ave & 2nd St NW/DOL           \n",
       "5 Henry Bacon Dr & Lincoln Memorial Circle NW\n",
       "6 1st & K St SE                              \n",
       "  End.Station                                         User.Type  Gender\n",
       "1 15th & K St NW                                      Subscriber       \n",
       "2 Connecticut Ave & Yuma St NW                        Subscriber       \n",
       "3 5th & K St NW                                       Subscriber       \n",
       "4 M St & Pennsylvania Ave NW                          Customer         \n",
       "5 Maine Ave & 7th St SW                               Subscriber       \n",
       "6 Eastern Market Metro / Pennsylvania Ave & 7th St SE Subscriber       \n",
       "  Birth.Year City      \n",
       "1            Washington\n",
       "2            Washington\n",
       "3            Washington\n",
       "4            Washington\n",
       "5            Washington\n",
       "6            Washington"
      ]
     },
     "metadata": {},
     "output_type": "display_data"
    },
    {
     "data": {
      "text/html": [
       "<table>\n",
       "<thead><tr><th scope=col>X</th><th scope=col>Start.Time</th><th scope=col>End.Time</th><th scope=col>Trip.Duration</th><th scope=col>Start.Station</th><th scope=col>End.Station</th><th scope=col>User.Type</th><th scope=col>Gender</th><th scope=col>Birth.Year</th><th scope=col>City</th></tr></thead>\n",
       "<tbody>\n",
       "\t<tr><td>5688089                                       </td><td>2017-06-11 14:55:05                           </td><td>2017-06-11 15:08:21                           </td><td> 795                                          </td><td>Suffolk St &amp; Stanton St                   </td><td>W Broadway &amp; Spring St                    </td><td>Subscriber                                    </td><td><span style=white-space:pre-wrap>Male  </span></td><td>1998                                          </td><td>New York                                      </td></tr>\n",
       "\t<tr><td>4096714                                                           </td><td>2017-05-11 15:30:11                                               </td><td>2017-05-11 15:41:43                                               </td><td> 692                                                              </td><td>Lexington Ave &amp; E 63 St                                       </td><td><span style=white-space:pre-wrap>1 Ave &amp; E 78 St       </span></td><td>Subscriber                                                        </td><td><span style=white-space:pre-wrap>Male  </span>                    </td><td>1981                                                              </td><td>New York                                                          </td></tr>\n",
       "\t<tr><td>2173887                                                            </td><td>2017-03-29 13:26:26                                                </td><td>2017-03-29 13:48:31                                                </td><td>1325                                                               </td><td><span style=white-space:pre-wrap>1 Pl &amp; Clinton St      </span></td><td><span style=white-space:pre-wrap>Henry St &amp; Degraw St  </span> </td><td>Subscriber                                                         </td><td><span style=white-space:pre-wrap>Male  </span>                     </td><td>1987                                                               </td><td>New York                                                           </td></tr>\n",
       "\t<tr><td>3945638                                                            </td><td>2017-05-08 19:47:18                                                </td><td>2017-05-08 19:59:01                                                </td><td> 703                                                               </td><td><span style=white-space:pre-wrap>Barrow St &amp; Hudson St  </span></td><td><span style=white-space:pre-wrap>W 20 St &amp; 8 Ave       </span> </td><td>Subscriber                                                         </td><td>Female                                                             </td><td>1986                                                               </td><td>New York                                                           </td></tr>\n",
       "\t<tr><td>6208972                                                            </td><td>2017-06-21 07:49:16                                                </td><td>2017-06-21 07:54:46                                                </td><td> 329                                                               </td><td><span style=white-space:pre-wrap>1 Ave &amp; E 44 St        </span></td><td><span style=white-space:pre-wrap>E 53 St &amp; 3 Ave       </span> </td><td>Subscriber                                                         </td><td><span style=white-space:pre-wrap>Male  </span>                     </td><td>1992                                                               </td><td>New York                                                           </td></tr>\n",
       "\t<tr><td>1285652                                                            </td><td>2017-02-22 18:55:24                                                </td><td>2017-02-22 19:12:03                                                </td><td> 998                                                               </td><td><span style=white-space:pre-wrap>State St &amp; Smith St    </span></td><td><span style=white-space:pre-wrap>Bond St &amp; Fulton St   </span> </td><td>Subscriber                                                         </td><td><span style=white-space:pre-wrap>Male  </span>                     </td><td>1986                                                               </td><td>New York                                                           </td></tr>\n",
       "</tbody>\n",
       "</table>\n"
      ],
      "text/latex": [
       "\\begin{tabular}{r|llllllllll}\n",
       " X & Start.Time & End.Time & Trip.Duration & Start.Station & End.Station & User.Type & Gender & Birth.Year & City\\\\\n",
       "\\hline\n",
       "\t 5688089                   & 2017-06-11 14:55:05       & 2017-06-11 15:08:21       &  795                      & Suffolk St \\& Stanton St & W Broadway \\& Spring St  & Subscriber                & Male                      & 1998                      & New York                 \\\\\n",
       "\t 4096714                   & 2017-05-11 15:30:11       & 2017-05-11 15:41:43       &  692                      & Lexington Ave \\& E 63 St & 1 Ave \\& E 78 St         & Subscriber                & Male                      & 1981                      & New York                 \\\\\n",
       "\t 2173887                   & 2017-03-29 13:26:26       & 2017-03-29 13:48:31       & 1325                      & 1 Pl \\& Clinton St       & Henry St \\& Degraw St    & Subscriber                & Male                      & 1987                      & New York                 \\\\\n",
       "\t 3945638                   & 2017-05-08 19:47:18       & 2017-05-08 19:59:01       &  703                      & Barrow St \\& Hudson St   & W 20 St \\& 8 Ave         & Subscriber                & Female                    & 1986                      & New York                 \\\\\n",
       "\t 6208972                   & 2017-06-21 07:49:16       & 2017-06-21 07:54:46       &  329                      & 1 Ave \\& E 44 St         & E 53 St \\& 3 Ave         & Subscriber                & Male                      & 1992                      & New York                 \\\\\n",
       "\t 1285652                   & 2017-02-22 18:55:24       & 2017-02-22 19:12:03       &  998                      & State St \\& Smith St     & Bond St \\& Fulton St     & Subscriber                & Male                      & 1986                      & New York                 \\\\\n",
       "\\end{tabular}\n"
      ],
      "text/markdown": [
       "\n",
       "| X | Start.Time | End.Time | Trip.Duration | Start.Station | End.Station | User.Type | Gender | Birth.Year | City |\n",
       "|---|---|---|---|---|---|---|---|---|---|\n",
       "| 5688089                 | 2017-06-11 14:55:05     | 2017-06-11 15:08:21     |  795                    | Suffolk St & Stanton St | W Broadway & Spring St  | Subscriber              | Male                    | 1998                    | New York                |\n",
       "| 4096714                 | 2017-05-11 15:30:11     | 2017-05-11 15:41:43     |  692                    | Lexington Ave & E 63 St | 1 Ave & E 78 St         | Subscriber              | Male                    | 1981                    | New York                |\n",
       "| 2173887                 | 2017-03-29 13:26:26     | 2017-03-29 13:48:31     | 1325                    | 1 Pl & Clinton St       | Henry St & Degraw St    | Subscriber              | Male                    | 1987                    | New York                |\n",
       "| 3945638                 | 2017-05-08 19:47:18     | 2017-05-08 19:59:01     |  703                    | Barrow St & Hudson St   | W 20 St & 8 Ave         | Subscriber              | Female                  | 1986                    | New York                |\n",
       "| 6208972                 | 2017-06-21 07:49:16     | 2017-06-21 07:54:46     |  329                    | 1 Ave & E 44 St         | E 53 St & 3 Ave         | Subscriber              | Male                    | 1992                    | New York                |\n",
       "| 1285652                 | 2017-02-22 18:55:24     | 2017-02-22 19:12:03     |  998                    | State St & Smith St     | Bond St & Fulton St     | Subscriber              | Male                    | 1986                    | New York                |\n",
       "\n"
      ],
      "text/plain": [
       "  X       Start.Time          End.Time            Trip.Duration\n",
       "1 5688089 2017-06-11 14:55:05 2017-06-11 15:08:21  795         \n",
       "2 4096714 2017-05-11 15:30:11 2017-05-11 15:41:43  692         \n",
       "3 2173887 2017-03-29 13:26:26 2017-03-29 13:48:31 1325         \n",
       "4 3945638 2017-05-08 19:47:18 2017-05-08 19:59:01  703         \n",
       "5 6208972 2017-06-21 07:49:16 2017-06-21 07:54:46  329         \n",
       "6 1285652 2017-02-22 18:55:24 2017-02-22 19:12:03  998         \n",
       "  Start.Station           End.Station            User.Type  Gender Birth.Year\n",
       "1 Suffolk St & Stanton St W Broadway & Spring St Subscriber Male   1998      \n",
       "2 Lexington Ave & E 63 St 1 Ave & E 78 St        Subscriber Male   1981      \n",
       "3 1 Pl & Clinton St       Henry St & Degraw St   Subscriber Male   1987      \n",
       "4 Barrow St & Hudson St   W 20 St & 8 Ave        Subscriber Female 1986      \n",
       "5 1 Ave & E 44 St         E 53 St & 3 Ave        Subscriber Male   1992      \n",
       "6 State St & Smith St     Bond St & Fulton St    Subscriber Male   1986      \n",
       "  City    \n",
       "1 New York\n",
       "2 New York\n",
       "3 New York\n",
       "4 New York\n",
       "5 New York\n",
       "6 New York"
      ]
     },
     "metadata": {},
     "output_type": "display_data"
    },
    {
     "data": {
      "text/html": [
       "<table>\n",
       "<thead><tr><th scope=col>X</th><th scope=col>Start.Time</th><th scope=col>End.Time</th><th scope=col>Trip.Duration</th><th scope=col>Start.Station</th><th scope=col>End.Station</th><th scope=col>User.Type</th><th scope=col>Gender</th><th scope=col>Birth.Year</th><th scope=col>City</th></tr></thead>\n",
       "<tbody>\n",
       "\t<tr><td>1423854                                                                  </td><td>2017-06-23 15:09:32                                                      </td><td>2017-06-23 15:14:53                                                      </td><td> 321                                                                     </td><td><span style=white-space:pre-wrap>Wood St &amp; Hubbard St         </span></td><td><span style=white-space:pre-wrap>Damen Ave &amp; Chicago Ave     </span> </td><td>Subscriber                                                               </td><td><span style=white-space:pre-wrap>Male  </span>                           </td><td>1992                                                                     </td><td>Chicago                                                                  </td></tr>\n",
       "\t<tr><td> 955915                                                              </td><td>2017-05-25 18:19:03                                                  </td><td>2017-05-25 18:45:53                                                  </td><td>1610                                                                 </td><td><span style=white-space:pre-wrap>Theater on the Lake          </span></td><td>Sheffield Ave &amp; Waveland Ave                                     </td><td>Subscriber                                                           </td><td>Female                                                               </td><td>1992                                                                 </td><td>Chicago                                                              </td></tr>\n",
       "\t<tr><td><span style=white-space:pre-wrap>   9031</span>                          </td><td>2017-01-04 08:27:49                                                      </td><td>2017-01-04 08:34:45                                                      </td><td> 416                                                                     </td><td><span style=white-space:pre-wrap>May St &amp; Taylor St           </span></td><td><span style=white-space:pre-wrap>Wood St &amp; Taylor St         </span> </td><td>Subscriber                                                               </td><td><span style=white-space:pre-wrap>Male  </span>                           </td><td>1981                                                                     </td><td>Chicago                                                                  </td></tr>\n",
       "\t<tr><td> 304487                                       </td><td>2017-03-06 13:49:38                           </td><td>2017-03-06 13:55:28                           </td><td> 350                                          </td><td>Christiana Ave &amp; Lawrence Ave             </td><td>St. Louis Ave &amp; Balmoral Ave              </td><td>Subscriber                                    </td><td><span style=white-space:pre-wrap>Male  </span></td><td>1986                                          </td><td>Chicago                                       </td></tr>\n",
       "\t<tr><td><span style=white-space:pre-wrap>  45207</span>                          </td><td>2017-01-17 14:53:07                                                      </td><td>2017-01-17 15:02:01                                                      </td><td> 534                                                                     </td><td><span style=white-space:pre-wrap>Clark St &amp; Randolph St       </span></td><td>Desplaines St &amp; Jackson Blvd                                         </td><td>Subscriber                                                               </td><td><span style=white-space:pre-wrap>Male  </span>                           </td><td>1975                                                                     </td><td>Chicago                                                                  </td></tr>\n",
       "\t<tr><td>1473887                                                                 </td><td>2017-06-26 09:01:20                                                     </td><td>2017-06-26 09:11:06                                                     </td><td> 586                                                                    </td><td>Clinton St &amp; Washington Blvd                                        </td><td><span style=white-space:pre-wrap>Canal St &amp; Taylor St        </span></td><td>Subscriber                                                              </td><td><span style=white-space:pre-wrap>Male  </span>                          </td><td>1990                                                                    </td><td>Chicago                                                                 </td></tr>\n",
       "</tbody>\n",
       "</table>\n"
      ],
      "text/latex": [
       "\\begin{tabular}{r|llllllllll}\n",
       " X & Start.Time & End.Time & Trip.Duration & Start.Station & End.Station & User.Type & Gender & Birth.Year & City\\\\\n",
       "\\hline\n",
       "\t 1423854                         & 2017-06-23 15:09:32             & 2017-06-23 15:14:53             &  321                            & Wood St \\& Hubbard St          & Damen Ave \\& Chicago Ave       & Subscriber                      & Male                            & 1992                            & Chicago                        \\\\\n",
       "\t  955915                        & 2017-05-25 18:19:03            & 2017-05-25 18:45:53            & 1610                           & Theater on the Lake            & Sheffield Ave \\& Waveland Ave & Subscriber                     & Female                         & 1992                           & Chicago                       \\\\\n",
       "\t    9031                         & 2017-01-04 08:27:49             & 2017-01-04 08:34:45             &  416                            & May St \\& Taylor St            & Wood St \\& Taylor St           & Subscriber                      & Male                            & 1981                            & Chicago                        \\\\\n",
       "\t  304487                         & 2017-03-06 13:49:38             & 2017-03-06 13:55:28             &  350                            & Christiana Ave \\& Lawrence Ave & St. Louis Ave \\& Balmoral Ave  & Subscriber                      & Male                            & 1986                            & Chicago                        \\\\\n",
       "\t   45207                         & 2017-01-17 14:53:07             & 2017-01-17 15:02:01             &  534                            & Clark St \\& Randolph St        & Desplaines St \\& Jackson Blvd  & Subscriber                      & Male                            & 1975                            & Chicago                        \\\\\n",
       "\t 1473887                         & 2017-06-26 09:01:20             & 2017-06-26 09:11:06             &  586                            & Clinton St \\& Washington Blvd  & Canal St \\& Taylor St          & Subscriber                      & Male                            & 1990                            & Chicago                        \\\\\n",
       "\\end{tabular}\n"
      ],
      "text/markdown": [
       "\n",
       "| X | Start.Time | End.Time | Trip.Duration | Start.Station | End.Station | User.Type | Gender | Birth.Year | City |\n",
       "|---|---|---|---|---|---|---|---|---|---|\n",
       "| 1423854                       | 2017-06-23 15:09:32           | 2017-06-23 15:14:53           |  321                          | Wood St & Hubbard St          | Damen Ave & Chicago Ave       | Subscriber                    | Male                          | 1992                          | Chicago                       |\n",
       "|  955915                       | 2017-05-25 18:19:03           | 2017-05-25 18:45:53           | 1610                          | Theater on the Lake           | Sheffield Ave & Waveland Ave  | Subscriber                    | Female                        | 1992                          | Chicago                       |\n",
       "|    9031                       | 2017-01-04 08:27:49           | 2017-01-04 08:34:45           |  416                          | May St & Taylor St            | Wood St & Taylor St           | Subscriber                    | Male                          | 1981                          | Chicago                       |\n",
       "|  304487                       | 2017-03-06 13:49:38           | 2017-03-06 13:55:28           |  350                          | Christiana Ave & Lawrence Ave | St. Louis Ave & Balmoral Ave  | Subscriber                    | Male                          | 1986                          | Chicago                       |\n",
       "|   45207                       | 2017-01-17 14:53:07           | 2017-01-17 15:02:01           |  534                          | Clark St & Randolph St        | Desplaines St & Jackson Blvd  | Subscriber                    | Male                          | 1975                          | Chicago                       |\n",
       "| 1473887                       | 2017-06-26 09:01:20           | 2017-06-26 09:11:06           |  586                          | Clinton St & Washington Blvd  | Canal St & Taylor St          | Subscriber                    | Male                          | 1990                          | Chicago                       |\n",
       "\n"
      ],
      "text/plain": [
       "  X       Start.Time          End.Time            Trip.Duration\n",
       "1 1423854 2017-06-23 15:09:32 2017-06-23 15:14:53  321         \n",
       "2  955915 2017-05-25 18:19:03 2017-05-25 18:45:53 1610         \n",
       "3    9031 2017-01-04 08:27:49 2017-01-04 08:34:45  416         \n",
       "4  304487 2017-03-06 13:49:38 2017-03-06 13:55:28  350         \n",
       "5   45207 2017-01-17 14:53:07 2017-01-17 15:02:01  534         \n",
       "6 1473887 2017-06-26 09:01:20 2017-06-26 09:11:06  586         \n",
       "  Start.Station                 End.Station                  User.Type  Gender\n",
       "1 Wood St & Hubbard St          Damen Ave & Chicago Ave      Subscriber Male  \n",
       "2 Theater on the Lake           Sheffield Ave & Waveland Ave Subscriber Female\n",
       "3 May St & Taylor St            Wood St & Taylor St          Subscriber Male  \n",
       "4 Christiana Ave & Lawrence Ave St. Louis Ave & Balmoral Ave Subscriber Male  \n",
       "5 Clark St & Randolph St        Desplaines St & Jackson Blvd Subscriber Male  \n",
       "6 Clinton St & Washington Blvd  Canal St & Taylor St         Subscriber Male  \n",
       "  Birth.Year City   \n",
       "1 1992       Chicago\n",
       "2 1992       Chicago\n",
       "3 1981       Chicago\n",
       "4 1986       Chicago\n",
       "5 1975       Chicago\n",
       "6 1990       Chicago"
      ]
     },
     "metadata": {},
     "output_type": "display_data"
    }
   ],
   "source": [
    "head(wash)\n",
    "head(ny)\n",
    "head(chi)"
   ]
  },
  {
   "cell_type": "code",
   "execution_count": 243,
   "id": "70c525d1",
   "metadata": {},
   "outputs": [],
   "source": [
    "# Combine the three cities data into one: motivate_tripdata_all\n",
    "motivate_tripdata_all <- rbind(ny,wash,chi)"
   ]
  },
  {
   "cell_type": "code",
   "execution_count": 244,
   "id": "af3c8066",
   "metadata": {},
   "outputs": [
    {
     "data": {
      "text/plain": [
       "   Length     Class      Mode \n",
       "   152451 character character "
      ]
     },
     "metadata": {},
     "output_type": "display_data"
    }
   ],
   "source": [
    "summary(motivate_tripdata_all$City)"
   ]
  },
  {
   "cell_type": "code",
   "execution_count": 245,
   "id": "9fb3e1df",
   "metadata": {},
   "outputs": [
    {
     "name": "stderr",
     "output_type": "stream",
     "text": [
      "Warning message:\n",
      "\"package 'ggplot2' is in use and will not be installed\""
     ]
    }
   ],
   "source": [
    "# Install visualization package\n",
    "install.packages(\"ggplot2\")\n",
    "library(ggplot2)"
   ]
  },
  {
   "cell_type": "code",
   "execution_count": 246,
   "id": "e611d306",
   "metadata": {},
   "outputs": [
    {
     "data": {
      "text/plain": [
       "   Min. 1st Qu.  Median    Mean 3rd Qu.    Max.    NA's \n",
       "     60     392     667    1098    1159 1088634       2 "
      ]
     },
     "metadata": {},
     "output_type": "display_data"
    }
   ],
   "source": [
    "summary(motivate_tripdata_all$Trip.Duration)"
   ]
  },
  {
   "cell_type": "code",
   "execution_count": 247,
   "id": "1d37522c",
   "metadata": {},
   "outputs": [
    {
     "data": {
      "text/plain": [
       "\n",
       "             Customer Subscriber \n",
       "       121      30754     121576 "
      ]
     },
     "metadata": {},
     "output_type": "display_data"
    },
    {
     "data": {
      "text/plain": [
       "\n",
       "   Chicago   New York Washington \n",
       "      8630      54770      89051 "
      ]
     },
     "metadata": {},
     "output_type": "display_data"
    },
    {
     "data": {
      "text/plain": [
       "\n",
       "       Female   Male \n",
       " 96209  13882  42360 "
      ]
     },
     "metadata": {},
     "output_type": "display_data"
    },
    {
     "data": {
      "text/plain": [
       "\n",
       "       1885  1886  1893  1899  1900  1901  1910  1917  1918  1923  1926  1927 \n",
       "89051     3     1     1     4     9     3     3     1     1     1     1     1 \n",
       " 1930  1932  1934  1935  1936  1937  1938  1939  1940  1941  1942  1943  1944 \n",
       "    2     3     7     1     2     1     5    10    20    28    41    19    37 \n",
       " 1945  1946  1947  1948  1949  1950  1951  1952  1953  1954  1955  1956  1957 \n",
       "   47    80    88    85   109   133   202   240   355   359   365   418   496 \n",
       " 1958  1959  1960  1961  1962  1963  1964  1965  1966  1967  1968  1969  1970 \n",
       "  565   629   782   687   863   761   929   955   887   905   988  1056  1193 \n",
       " 1971  1972  1973  1974  1975  1976  1977  1978  1979  1980  1981  1982  1983 \n",
       " 1138  1030  1065  1165  1102  1220  1293  1364  1423  1568  1762  1809  1996 \n",
       " 1984  1985  1986  1987  1988  1989  1990  1991  1992  1993  1994  1995  1996 \n",
       " 2094  2319  2337  2336  2335  2438  2411  2066  1851  1423   879   531   416 \n",
       " 1997  1998  1999  2000  2001  2002 \n",
       "  283   204   118    73     3     1 "
      ]
     },
     "metadata": {},
     "output_type": "display_data"
    }
   ],
   "source": [
    "table(motivate_tripdata_all$User.Type)\n",
    "table(motivate_tripdata_all$City)\n",
    "table(motivate_tripdata_all$Gender)\n",
    "table(motivate_tripdata_all$Birth.Year)"
   ]
  },
  {
   "cell_type": "markdown",
   "id": "5a8538a7",
   "metadata": {},
   "source": [
    "### Question 2 - Popular Stations and Trip\n",
    "\n",
    "\n"
   ]
  },
  {
   "cell_type": "code",
   "execution_count": 248,
   "id": "a2cb678c",
   "metadata": {},
   "outputs": [
    {
     "data": {
      "image/png": "[encoded data removed]",
      "text/plain": [
       "plot without title"
      ]
     },
     "metadata": {},
     "output_type": "display_data"
    }
   ],
   "source": [
    "barplot(head(summary(motivate_tripdata_all$Start.Station),2))"
   ]
  },
  {
   "cell_type": "code",
   "execution_count": 284,
   "id": "657da441",
   "metadata": {},
   "outputs": [
    {
     "data": {
      "image/png": "[encoded data removed]",
      "text/plain": [
       "plot without title"
      ]
     },
     "metadata": {},
     "output_type": "display_data"
    }
   ],
   "source": [
    "#What is the most common end station?\n",
    "barplot(head(summary(motivate_tripdata_all$End.Station),2))"
   ]
  },
  {
   "cell_type": "code",
   "execution_count": 303,
   "id": "8b3bb431",
   "metadata": {},
   "outputs": [
    {
     "name": "stdout",
     "output_type": "stream",
     "text": [
      "[1] \"Jefferson Dr & 14th St SW to Jefferson Dr & 14th St SW\"\n"
     ]
    }
   ],
   "source": [
    "#What is the most common trip from start to end (i.e., most frequent combination of start station and end station)?\n",
    "\n",
    "#Create a StartEnd Column\n",
    "motivate_tripdata_all$StartEnd <- paste(motivate_tripdata_all$Start.Station, 'to', motivate_tripdata_all$End.Station)\n",
    "\n",
    "#Use getmode function defined below to return most common trip from start to end\n",
    "result <- getmode(motivate_tripdata_all$StartEnd)\n",
    "print(result)"
   ]
  },
  {
   "cell_type": "code",
   "execution_count": 307,
   "id": "6bc3baf8",
   "metadata": {},
   "outputs": [
    {
     "data": {
      "text/html": [
       "<table>\n",
       "<thead><tr><th scope=col>X</th><th scope=col>Start.Time</th><th scope=col>End.Time</th><th scope=col>Trip.Duration</th><th scope=col>Start.Station</th><th scope=col>End.Station</th><th scope=col>User.Type</th><th scope=col>Gender</th><th scope=col>Birth.Year</th><th scope=col>City</th><th scope=col>StartEnd</th></tr></thead>\n",
       "<tbody>\n",
       "\t<tr><td>5688089                                                  </td><td>2017-06-11 14:55:05                                      </td><td>2017-06-11 15:08:21                                      </td><td> 795                                                     </td><td>Suffolk St &amp; Stanton St                              </td><td>W Broadway &amp; Spring St                               </td><td>Subscriber                                               </td><td>Male                                                     </td><td>1998                                                     </td><td>New York                                                 </td><td>Suffolk St &amp; Stanton St to W Broadway &amp; Spring St</td></tr>\n",
       "\t<tr><td>4096714                                                                                          </td><td>2017-05-11 15:30:11                                                                              </td><td>2017-05-11 15:41:43                                                                              </td><td> 692                                                                                             </td><td>Lexington Ave &amp; E 63 St                                                                      </td><td><span style=white-space:pre-wrap>1 Ave &amp; E 78 St       </span>                               </td><td>Subscriber                                                                                       </td><td>Male                                                                                             </td><td>1981                                                                                             </td><td>New York                                                                                         </td><td><span style=white-space:pre-wrap>Lexington Ave &amp; E 63 St to 1 Ave &amp; E 78 St       </span></td></tr>\n",
       "\t<tr><td>2173887                                                                                          </td><td>2017-03-29 13:26:26                                                                              </td><td>2017-03-29 13:48:31                                                                              </td><td>1325                                                                                             </td><td><span style=white-space:pre-wrap>1 Pl &amp; Clinton St      </span>                              </td><td><span style=white-space:pre-wrap>Henry St &amp; Degraw St  </span>                               </td><td>Subscriber                                                                                       </td><td>Male                                                                                             </td><td>1987                                                                                             </td><td>New York                                                                                         </td><td><span style=white-space:pre-wrap>1 Pl &amp; Clinton St to Henry St &amp; Degraw St        </span></td></tr>\n",
       "</tbody>\n",
       "</table>\n"
      ],
      "text/latex": [
       "\\begin{tabular}{r|lllllllllll}\n",
       " X & Start.Time & End.Time & Trip.Duration & Start.Station & End.Station & User.Type & Gender & Birth.Year & City & StartEnd\\\\\n",
       "\\hline\n",
       "\t 5688089                                               & 2017-06-11 14:55:05                                   & 2017-06-11 15:08:21                                   &  795                                                  & Suffolk St \\& Stanton St                             & W Broadway \\& Spring St                              & Subscriber                                            & Male                                                  & 1998                                                  & New York                                              & Suffolk St \\& Stanton St to W Broadway \\& Spring St\\\\\n",
       "\t 4096714                                               & 2017-05-11 15:30:11                                   & 2017-05-11 15:41:43                                   &  692                                                  & Lexington Ave \\& E 63 St                             & 1 Ave \\& E 78 St                                     & Subscriber                                            & Male                                                  & 1981                                                  & New York                                              & Lexington Ave \\& E 63 St to 1 Ave \\& E 78 St       \\\\\n",
       "\t 2173887                                               & 2017-03-29 13:26:26                                   & 2017-03-29 13:48:31                                   & 1325                                                  & 1 Pl \\& Clinton St                                   & Henry St \\& Degraw St                                & Subscriber                                            & Male                                                  & 1987                                                  & New York                                              & 1 Pl \\& Clinton St to Henry St \\& Degraw St        \\\\\n",
       "\\end{tabular}\n"
      ],
      "text/markdown": [
       "\n",
       "| X | Start.Time | End.Time | Trip.Duration | Start.Station | End.Station | User.Type | Gender | Birth.Year | City | StartEnd |\n",
       "|---|---|---|---|---|---|---|---|---|---|---|\n",
       "| 5688089                                           | 2017-06-11 14:55:05                               | 2017-06-11 15:08:21                               |  795                                              | Suffolk St & Stanton St                           | W Broadway & Spring St                            | Subscriber                                        | Male                                              | 1998                                              | New York                                          | Suffolk St & Stanton St to W Broadway & Spring St |\n",
       "| 4096714                                           | 2017-05-11 15:30:11                               | 2017-05-11 15:41:43                               |  692                                              | Lexington Ave & E 63 St                           | 1 Ave & E 78 St                                   | Subscriber                                        | Male                                              | 1981                                              | New York                                          | Lexington Ave & E 63 St to 1 Ave & E 78 St        |\n",
       "| 2173887                                           | 2017-03-29 13:26:26                               | 2017-03-29 13:48:31                               | 1325                                              | 1 Pl & Clinton St                                 | Henry St & Degraw St                              | Subscriber                                        | Male                                              | 1987                                              | New York                                          | 1 Pl & Clinton St to Henry St & Degraw St         |\n",
       "\n"
      ],
      "text/plain": [
       "  X       Start.Time          End.Time            Trip.Duration\n",
       "1 5688089 2017-06-11 14:55:05 2017-06-11 15:08:21  795         \n",
       "2 4096714 2017-05-11 15:30:11 2017-05-11 15:41:43  692         \n",
       "3 2173887 2017-03-29 13:26:26 2017-03-29 13:48:31 1325         \n",
       "  Start.Station           End.Station            User.Type  Gender Birth.Year\n",
       "1 Suffolk St & Stanton St W Broadway & Spring St Subscriber Male   1998      \n",
       "2 Lexington Ave & E 63 St 1 Ave & E 78 St        Subscriber Male   1981      \n",
       "3 1 Pl & Clinton St       Henry St & Degraw St   Subscriber Male   1987      \n",
       "  City     StartEnd                                         \n",
       "1 New York Suffolk St & Stanton St to W Broadway & Spring St\n",
       "2 New York Lexington Ave & E 63 St to 1 Ave & E 78 St       \n",
       "3 New York 1 Pl & Clinton St to Henry St & Degraw St        "
      ]
     },
     "metadata": {},
     "output_type": "display_data"
    }
   ],
   "source": [
    "head(motivate_tripdata_all,3)"
   ]
  },
  {
   "cell_type": "markdown",
   "id": "aadc1aa5",
   "metadata": {},
   "source": [
    "**Question 2 Summary**\n",
    "\n",
    "**Columbus Circle/Union Station is both the most common start and end station.**\n",
    "\n",
    "**Jefferson Dr & 14th St SW to Jefferson Dr & 14th St SW is the most frequent combination of start and end station.**"
   ]
  },
  {
   "cell_type": "markdown",
   "id": "0b133a60",
   "metadata": {},
   "source": [
    "## Question 3 - Trip Duration\n",
    "**What is the total travel time for users in different cities?**\n",
    "\n",
    "**What is the average travel time for users in different cities?**"
   ]
  },
  {
   "cell_type": "code",
   "execution_count": 251,
   "id": "cfdcb03e",
   "metadata": {},
   "outputs": [
    {
     "name": "stderr",
     "output_type": "stream",
     "text": [
      "Warning message:\n",
      "\"Removed 2 rows containing non-finite values (stat_boxplot).\""
     ]
    },
    {
     "data": {
      "image/png": "[encoded data removed]",
      "text/plain": [
       "plot without title"
      ]
     },
     "metadata": {},
     "output_type": "display_data"
    }
   ],
   "source": [
    "#Trip Duration Boxplot\n",
    "qplot(x=City, y=Trip.Duration,\n",
    "        data=motivate_tripdata_all,\n",
    "  geom='boxplot')+\n",
    "    coord_cartesian(ylim=c(0,1500))"
   ]
  },
  {
   "cell_type": "code",
   "execution_count": 270,
   "id": "e980d883",
   "metadata": {},
   "outputs": [
    {
     "data": {
      "image/png": "[encoded data removed]",
      "text/plain": [
       "plot without title"
      ]
     },
     "metadata": {},
     "output_type": "display_data"
    }
   ],
   "source": [
    "#What is the total travel time for users in different cities?\n",
    "barplot(by(motivate_tripdata_all$Trip.Duration,motivate_tripdata_all$City,sum,na.rm=TRUE))"
   ]
  },
  {
   "cell_type": "code",
   "execution_count": 269,
   "id": "7592a920",
   "metadata": {},
   "outputs": [
    {
     "data": {
      "image/png": "[encoded data removed]",
      "text/plain": [
       "plot without title"
      ]
     },
     "metadata": {},
     "output_type": "display_data"
    }
   ],
   "source": [
    "#What is the average travel time for users in different cities?\n",
    "barplot(by(motivate_tripdata_all$Trip.Duration,motivate_tripdata_all$City,mean, na.rm=TRUE))"
   ]
  },
  {
   "cell_type": "markdown",
   "id": "c7e223f6",
   "metadata": {},
   "source": [
    "**Question 3 Summary**\n",
    "\n",
    "**Washington has the highest Total Travel Time & Average Travel Time for users of 109,883,545 seconds  & 1,233.939 seconds respectively.**"
   ]
  },
  {
   "cell_type": "markdown",
   "id": "ad7bf9a7",
   "metadata": {},
   "source": [
    "### Question 4 - User Info\n",
    "**What are the counts of each user type?**\n",
    "**What are the counts of each gender (only available for NYC and Chicago)?**\n",
    "**What are the earliest, most recent, most common year of birth (only available for NYC and Chicago)?**\n"
   ]
  },
  {
   "cell_type": "code",
   "execution_count": 280,
   "id": "be5f4dee",
   "metadata": {},
   "outputs": [
    {
     "data": {
      "image/png": "[encoded data removed]",
      "text/plain": [
       "plot without title"
      ]
     },
     "metadata": {},
     "output_type": "display_data"
    }
   ],
   "source": [
    "#What are the counts of each user type?\n",
    "barplot(summary(motivate_tripdata_all$User.Type,na.rm=TRUE))\n"
   ]
  },
  {
   "cell_type": "code",
   "execution_count": 255,
   "id": "6de4cc8f",
   "metadata": {},
   "outputs": [
    {
     "data": {
      "image/png": "[encoded data removed]",
      "text/plain": [
       "Plot with title \"Counts of each Gender in NewYork\""
      ]
     },
     "metadata": {},
     "output_type": "display_data"
    },
    {
     "data": {
      "image/png": "[encoded data removed]",
      "text/plain": [
       "Plot with title \"Counts of each Gender in Chicago\""
      ]
     },
     "metadata": {},
     "output_type": "display_data"
    }
   ],
   "source": [
    "# What are the counts of each gender (only available for NYC and Chicago)? \n",
    "barplot(summary(ny$Gender),\n",
    "        main = \"Counts of each Gender in NewYork\",\n",
    "xlab = \"Gender Count\",\n",
    "ylab = \"Gender\",\n",
    "col = \"forest green\",\n",
    "        names.arg= c('Missing Data', 'Female', 'Male'),\n",
    "horiz = TRUE, width=c(10))\n",
    "\n",
    "barplot (summary(chi$Gender),\n",
    "     main = \"Counts of each Gender in Chicago\",\n",
    "xlab = \"Gender Count\",\n",
    "ylab = \"Gender\",\n",
    "col = \"forest green\",\n",
    "        names.arg= c('Missing Data', 'Female', 'Male'),\n",
    "horiz = TRUE, width=c(10))\n",
    "\n"
   ]
  },
  {
   "cell_type": "code",
   "execution_count": 256,
   "id": "1a1efe78",
   "metadata": {},
   "outputs": [
    {
     "data": {
      "text/plain": [
       "   Min. 1st Qu.  Median    Mean 3rd Qu.    Max.    NA's \n",
       "   1885    1970    1981    1978    1988    2001    5218 "
      ]
     },
     "metadata": {},
     "output_type": "display_data"
    },
    {
     "data": {
      "text/plain": [
       "   Min. 1st Qu.  Median    Mean 3rd Qu.    Max.    NA's \n",
       "   1899    1975    1984    1981    1989    2002    1747 "
      ]
     },
     "metadata": {},
     "output_type": "display_data"
    }
   ],
   "source": [
    "#What are the earliest, most recent, most common year of birth (only available for NYC and Chicago)?\n",
    "\n",
    "summary(ny$Birth.Year)\n",
    "summary(chi$Birth.Year)"
   ]
  },
  {
   "cell_type": "code",
   "execution_count": 312,
   "id": "c62ddcc0",
   "metadata": {},
   "outputs": [
    {
     "data": {
      "image/png": "[encoded data removed]",
      "text/plain": [
       "Plot with title \"Counts of year of birth\""
      ]
     },
     "metadata": {},
     "output_type": "display_data"
    }
   ],
   "source": [
    "#What is the most common year of birth? \n",
    "barplot(table(motivate_tripdata_all$Birth.Year[!is.na(motivate_tripdata_all$Birth.Year)]),\n",
    "       main = \"Counts of year of birth\",\n",
    "xlab = \"year of birth\",\n",
    "ylab = \"Count\",)  "
   ]
  },
  {
   "cell_type": "markdown",
   "id": "bbc6cb5a",
   "metadata": {},
   "source": [
    "Blank data makes the above barplot seem like most common year of birth is before 1900. That is not correct!\n",
    "Next, I would write a function (getmode) to get the most common year of birth."
   ]
  },
  {
   "cell_type": "code",
   "execution_count": 258,
   "id": "9a61efef",
   "metadata": {},
   "outputs": [
    {
     "name": "stdout",
     "output_type": "stream",
     "text": [
      "[1] 1989\n"
     ]
    }
   ],
   "source": [
    "#Most Common year of birth\n",
    "# Create the function.\n",
    "getmode <- function(v) {\n",
    "   uniqv <- unique(v)\n",
    "   uniqv[which.max(tabulate(match(v, uniqv)))]\n",
    "}\n",
    "\n",
    "# Calculate the mode using the user function.\n",
    "result <- getmode(ny$Birth.Year[!is.na(ny$Birth.Year)])\n",
    "print(result)"
   ]
  },
  {
   "cell_type": "markdown",
   "id": "bc6c0ed3",
   "metadata": {},
   "source": [
    "**Question 4 Summary**\n",
    "\n",
    "**Subscriber count is about 4x Customer count**\n",
    "\n",
    "**Gender count for Male is 3x Female for both New York & Chicago**\n",
    "\n",
    "**Earliest year of birth is 1885 for NYC & 1899 for Chicago.**\n",
    "\n",
    "**1989 is the most common year of birth**"
   ]
  }
 ],
 "metadata": {
  "kernelspec": {
   "display_name": "R",
   "language": "R",
   "name": "ir"
  },
  "language_info": {
   "codemirror_mode": "r",
   "file_extension": ".r",
   "mimetype": "text/x-r-source",
   "name": "R",
   "pygments_lexer": "r",
   "version": "3.6.1"
  }
 },
 "nbformat": 4,
 "nbformat_minor": 5
}
